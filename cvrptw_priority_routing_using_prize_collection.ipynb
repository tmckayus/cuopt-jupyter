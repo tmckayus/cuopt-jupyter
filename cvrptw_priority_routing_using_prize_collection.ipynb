{
 "cells": [
  {
   "cell_type": "code",
   "execution_count": null,
   "id": "dfba0652",
   "metadata": {},
   "outputs": [],
   "source": [
    "import os\n",
    "import pandas as pd\n",
    "import json\n",
    "import notebook_utils.notebook_helpers as utils\n",
    "from cuopt_sh_client import CuOptServiceSelfHostClient"
   ]
  },
  {
   "cell_type": "markdown",
   "id": "fbb36201",
   "metadata": {},
   "source": [
    "# Priority Routing\n",
    "## Capacitated Vehicle Routing Problem with prize collection."
   ]
  },
  {
   "cell_type": "markdown",
   "id": "bffb5f0c",
   "metadata": {},
   "source": [
    "Loyalty (or Preferred) customer programs help companies to reward repeat customers and enhance their overall business offering. While the best possible customer service is always the goal, loyalty programs provide a mechanism for reinforcing the relationship with the customers that drive business revenue.\n",
    "\n",
    "In this scenario we have couple of deliveries out of which only few can be made at the cost of other, and depedning on loyality of a customer or may be cost of the delivery can be a priority. This problem will consider cost of the task/order."
   ]
  },
  {
   "cell_type": "markdown",
   "id": "cb33a971",
   "metadata": {},
   "source": [
    "### Problem Details:\n",
    "- 8 Locations each with an associated demand\n",
    "    - 1 Distribution Center \n",
    "        - distribution center demand: [0]\n",
    "        - hours of operation: [0,24]\n",
    "    - 7 Service Locations\n",
    "        - demand for deliveries: [1, 1, 1, 1, 1, 1, 1]\n",
    "        - delivery time windows: [[9,10],[9,10],[9,10],[10,11],[10,11],[10,11],[9,10]]\n",
    "        - service location service times: [ 0.25, 0.25, 0.25, 0.25, 0.25, 0.25, 0.25]\n",
    "        - loyalty program member: [1, 0, 0, 0, 1, 0, 1]\n",
    "\n",
    "- 3 Delivery vehicles each with an associated capacity\n",
    "    - 3 delivery vehicles\n",
    "        - capacity for deliveries: [3, 3, 3]\n",
    "        "
   ]
  },
  {
   "cell_type": "markdown",
   "id": "baa93a42",
   "metadata": {},
   "source": [
    "Below we visualize the delivery locations with respect to the distribution center. The cost from all locations to all other locations (a cost matrix) will be required for optimization. To see an example of cost matrix generation from map data or a waypoint graph, refer to the [cost_matrix_creation.ipynb](cost_matrix_creation.ipynb) notebook.  For the purpose of this simple example we will omit the cost matrix calculation."
   ]
  },
  {
   "cell_type": "code",
   "execution_count": null,
   "id": "e747d30d",
   "metadata": {
    "scrolled": true
   },
   "outputs": [],
   "source": [
    "location_names       = [      \"DC\",          \"A\",    \"B\",    \"C\",    \"D\",    \"E\",    \"F\",    \"G\"  ]\n",
    "location_coordinates = [     [4, 4],        [1, 3], [8, 1], [2, 1], [6, 7], [0, 2], [7, 6], [5, 3] ]\n",
    "location_coordinates_df = pd.DataFrame(location_coordinates, columns=['xcord', 'ycord'], index=location_names)\n",
    "utils.gen_plot(location_coordinates_df).show()"
   ]
  },
  {
   "cell_type": "markdown",
   "id": "413aeb52",
   "metadata": {},
   "source": [
    "# Initialize cuOpt Service Client and cuOpt Problem Data"
   ]
  },
  {
   "cell_type": "code",
   "execution_count": null,
   "id": "5b5b9102",
   "metadata": {},
   "outputs": [],
   "source": [
    "ip = \"0.0.0.0\"\n",
    "port = 5000\n",
    "\n",
    "client = CuOptServiceSelfHostClient(\n",
    "    ip=ip,\n",
    "    port=port\n",
    ")\n",
    "\n",
    "cuopt_problem_data = {}"
   ]
  },
  {
   "cell_type": "markdown",
   "id": "1307fc95",
   "metadata": {},
   "source": [
    "### Cost Matrix : Primary"
   ]
  },
  {
   "cell_type": "markdown",
   "id": "27525bf2",
   "metadata": {},
   "source": [
    "The cost matrix dictates the cost of travel between locations of interest.  The cost itself can be anything relevant to the user.  In this case we are using a business defined cost objective as a primary cost matrix and a secondary time matrix to verify our time based constraints. \n",
    "\n",
    "Here is the cost(business metric) matrix corresponding to the locations above:"
   ]
  },
  {
   "cell_type": "code",
   "execution_count": null,
   "id": "ef01144e",
   "metadata": {},
   "outputs": [],
   "source": [
    "business_metric_cost_matrix = [\n",
    "    [0.0, 3.1, 5.0, 3.6, 3.6, 4.5, 3.6, 1.4],\n",
    "    [3.1, 0.0, 7.3, 2.2, 6.4, 1.4, 6.7, 4.0],\n",
    "    [5.0, 7.3, 0.0, 6.0, 6.3, 8.1, 5.1, 3.6],\n",
    "    [3.6, 2.2, 6.0, 0.0, 7.2, 2.2, 7.1, 3.6],\n",
    "    [3.6, 6.4, 6.3, 7.2, 0.0, 7.8, 1.4, 4.1],\n",
    "    [4.5, 1.4, 8.1, 2.2, 7.8, 0.0, 8.1, 5.1],\n",
    "    [3.6, 6.7, 5.1, 7.1, 1.4, 8.1, 0.0, 3.6],\n",
    "    [1.4, 4.0, 3.6, 3.6, 4.1, 5.1, 3.6, 0.0]\n",
    "]"
   ]
  },
  {
   "cell_type": "markdown",
   "id": "9671d772",
   "metadata": {},
   "source": [
    "### Cost Matrix : Secondary"
   ]
  },
  {
   "cell_type": "markdown",
   "id": "d226f72b",
   "metadata": {},
   "source": [
    "Here is the constraint checking (time) secondary matrix:"
   ]
  },
  {
   "cell_type": "code",
   "execution_count": null,
   "id": "145a2560",
   "metadata": {},
   "outputs": [],
   "source": [
    "constraint_checking_time_matrix = [\n",
    "    [0.00, 0.39, 0.63, 0.45, 0.45, 0.55, 0.45, 0.18 ],\n",
    "    [0.39, 0.00, 0.90, 0.28, 0.80, 0.18, 0.84, 0.50 ],\n",
    "    [0.63, 0.90, 0.00, 0.75, 0.79, 1.00, 0.64, 0.45 ],\n",
    "    [0.45, 0.28, 0.75, 0.00, 0.90, 0.28, 0.88, 0.45 ],\n",
    "    [0.45, 0.80, 0.79, 0.90, 0.00, 0.96, 0.18, 0.51 ],\n",
    "    [0.55, 0.18, 1.00, 0.28, 0.96, 0.00, 1.00, 0.64 ],\n",
    "    [0.45, 0.84, 0.64, 0.88, 0.18, 1.00, 0.00, 0.45 ],\n",
    "    [0.18, 0.50, 0.45, 0.45, 0.51, 0.64, 0.45, 0.00 ]\n",
    "]"
   ]
  },
  {
   "cell_type": "markdown",
   "id": "cbd80cd3",
   "metadata": {},
   "source": [
    "### Deliveries"
   ]
  },
  {
   "cell_type": "markdown",
   "id": "54d6af91",
   "metadata": {},
   "source": [
    "Setup the delivery data"
   ]
  },
  {
   "cell_type": "code",
   "execution_count": null,
   "id": "28e33246",
   "metadata": {},
   "outputs": [],
   "source": [
    "delivery_location_data = {\n",
    "    \"task_location\":          [i+1 for i in range(len(location_names)-1)], # designate zeroth location as start and return points for fleet\n",
    "    \"task_ids\":               [\"a\", \"b\", \"c\", \"d\", \"e\", \"f\", \"g\"],\n",
    "    \"delivery_demand\":        [1,  1,  1,  1,  1,  1,  1 ],\n",
    "    \"location_earliest_time\": [9,  9,  9,  10, 10, 10, 9 ],\n",
    "    \"location_latest_time\":   [10, 10, 10, 11, 11, 11, 10],\n",
    "    \"required_service_time\":  [1,  2,  1,  2,  1,  2,  1 ],\n",
    "    \"loyalty_member\":         [0,  1,  0,  1,  0,  1,  0 ],\n",
    "    \"prizes\":                 [1,  15,  1,  15,  1,  15,  1],\n",
    "}\n",
    "print(delivery_location_data)"
   ]
  },
  {
   "cell_type": "markdown",
   "id": "dd268248",
   "metadata": {},
   "source": [
    "### Set Cost Matrix\n",
    "\n",
    "Dispatch cost matrix to server"
   ]
  },
  {
   "cell_type": "code",
   "execution_count": null,
   "id": "14b41584",
   "metadata": {},
   "outputs": [],
   "source": [
    "cuopt_problem_data[\"cost_matrix_data\"] = {\n",
    "        \"cost_matrix\": {\n",
    "            \"0\": business_metric_cost_matrix\n",
    "        }\n",
    "    }"
   ]
  },
  {
   "cell_type": "markdown",
   "id": "8181e6f1",
   "metadata": {},
   "source": [
    "### Set Secondary Cost Matrix\n",
    "\n",
    "Dispatch secondary cost matrix to server"
   ]
  },
  {
   "cell_type": "code",
   "execution_count": null,
   "id": "a603ed5c",
   "metadata": {},
   "outputs": [],
   "source": [
    "cuopt_problem_data[\"travel_time_matrix_data\"] = {\n",
    "        \"data\": {\n",
    "            \"0\": constraint_checking_time_matrix\n",
    "        }\n",
    "    }"
   ]
  },
  {
   "cell_type": "markdown",
   "id": "6bace17e",
   "metadata": {},
   "source": [
    "### Set Vehicle Data\n",
    "Dispatch vehicle data to server"
   ]
  },
  {
   "cell_type": "code",
   "execution_count": null,
   "id": "f4931236",
   "metadata": {},
   "outputs": [],
   "source": [
    "n_vehicles = 3\n",
    "vehicle_capacity = 3 # As per problem statement, all vehicles have capacities of 3\n",
    "\n",
    "cuopt_problem_data[\"fleet_data\"] = {\n",
    "        \"vehicle_locations\": [[0,0]] * n_vehicles,\n",
    "        \"capacities\": [[vehicle_capacity] * n_vehicles],\n",
    "        \"vehicle_time_windows\": [[5, 20]] * n_vehicles\n",
    "}"
   ]
  },
  {
   "cell_type": "markdown",
   "id": "e5738d68",
   "metadata": {},
   "source": [
    "### Set Task Data\n",
    "Dispatch task data to server"
   ]
  },
  {
   "cell_type": "code",
   "execution_count": null,
   "id": "c0bcf99c",
   "metadata": {},
   "outputs": [],
   "source": [
    "cuopt_problem_data[\"task_data\"] = {\n",
    "        \"task_locations\": delivery_location_data[\"task_location\"],\n",
    "        \"task_ids\": delivery_location_data[\"task_ids\"],\n",
    "        \"demand\": [delivery_location_data[\"delivery_demand\"]],\n",
    "        \"task_time_windows\": list(zip(delivery_location_data[\"location_earliest_time\"],\n",
    "                                          delivery_location_data[\"location_latest_time\"])),\n",
    "        \"service_times\": delivery_location_data[\"required_service_time\"],\n",
    "}"
   ]
  },
  {
   "cell_type": "markdown",
   "id": "82f4dd75",
   "metadata": {},
   "source": [
    "### Set CuOpt Solver Configuration"
   ]
  },
  {
   "cell_type": "code",
   "execution_count": null,
   "id": "d0f811c5",
   "metadata": {
    "scrolled": true
   },
   "outputs": [],
   "source": [
    "cuopt_problem_data[\"solver_config\"] = {\n",
    "        \"time_limit\": 5\n",
    "    }"
   ]
  },
  {
   "cell_type": "code",
   "execution_count": null,
   "id": "d62297ec",
   "metadata": {},
   "outputs": [],
   "source": [
    "print( json.dumps(cuopt_problem_data, indent=4))"
   ]
  },
  {
   "cell_type": "markdown",
   "id": "1d2997dd",
   "metadata": {},
   "source": [
    "### Attempt to obtain optimized routes\n",
    "We can attempt to solve this problem as stated, but as previously discussed it is not feasible within the specified target time windows"
   ]
  },
  {
   "cell_type": "code",
   "execution_count": null,
   "id": "a63b509b",
   "metadata": {},
   "outputs": [],
   "source": [
    "# Solve the problem\n",
    "\n",
    "solver_response = client.get_optimized_routes(\n",
    "    cuopt_problem_data\n",
    ")\n",
    "\n",
    "solver_resp = solver_response[\"response\"]\n",
    "\n",
    "if \"solver_response\" not in solver_resp.keys():\n",
    "    print(\"cuOpt was unable to find a solution.\")"
   ]
  },
  {
   "cell_type": "markdown",
   "id": "3f863e49",
   "metadata": {},
   "source": [
    "cuOpt is unable to find a feasible solution.  As previously discussed we would like to allow the deliveries to exceed the latest time windows by using soft time windows"
   ]
  },
  {
   "cell_type": "markdown",
   "id": "900028af",
   "metadata": {},
   "source": [
    "### Initial Solution\n",
    "\n",
    "Lets enable prize collection, which will let solver deliver partial set of orders compared to al the orders.\n",
    "\n",
    "#### Add prizes \n",
    "\n",
    "With this, we can prioritize order/customers by providing higher prizes to such jobs compared to others."
   ]
  },
  {
   "cell_type": "code",
   "execution_count": null,
   "id": "8f6e8a2c",
   "metadata": {},
   "outputs": [],
   "source": [
    "cuopt_problem_data[\"task_data\"][\"prizes\"] = delivery_location_data[\"prizes\"]"
   ]
  },
  {
   "cell_type": "markdown",
   "id": "1eb424b0",
   "metadata": {},
   "source": [
    "#### Re-optimize "
   ]
  },
  {
   "cell_type": "code",
   "execution_count": null,
   "id": "098c0061",
   "metadata": {},
   "outputs": [],
   "source": [
    "# Solve the problem\n",
    "solver_response = client.get_optimized_routes(\n",
    "    cuopt_problem_data\n",
    ")\n",
    "\n",
    "# Process returned data\n",
    "solver_resp = solver_response[\"response\"][\"solver_response\"]\n",
    "\n",
    "if solver_resp[\"status\"] == 0: \n",
    "    solver_resp_df = utils.get_solution_df(solver_resp)\n",
    "    print(\"Vehicle count to complete routing: \", solver_resp[\"num_vehicles\"])\n",
    "    print(solver_resp_df)\n",
    "else:\n",
    "    print(\"NVIDIA cuOpt Failed to find a solution with status : \", solver_resp[\"status\"])"
   ]
  },
  {
   "cell_type": "markdown",
   "id": "6661e1e7",
   "metadata": {},
   "source": [
    "It can be observed that the tasks with higher prizes were chosen over other tasks"
   ]
  },
  {
   "cell_type": "code",
   "execution_count": null,
   "id": "d1845a27",
   "metadata": {},
   "outputs": [],
   "source": [
    "solution_data_priority = utils.get_solution_df(solver_resp)\n",
    "solution_data_priority['route'] = [location_names[i] for i in solution_data_priority['route'].to_list()]\n",
    "solution_data_priority = solution_data_priority.set_index('route')\n",
    "solution_data_priority"
   ]
  },
  {
   "cell_type": "markdown",
   "id": "adcf0380-0924-424e-a942-9645a4ff76a7",
   "metadata": {},
   "source": [
    "\n",
    "SPDX-FileCopyrightText: Copyright (c) 2024 NVIDIA CORPORATION & AFFILIATES. All rights reserved.\n",
    "SPDX-License-Identifier: MIT\n",
    "Permission is hereby granted, free of charge, to any person obtaining a copy of this software and associated documentation files (the \"Software\"), to deal in the Software without restriction, including without limitation the rights to use, copy, modify, merge, publish, distribute, sublicense, and/or sell copies of the Software, and to permit persons to whom the Software is furnished to do so, subject to the following conditions: The above copyright notice and this permission notice shall be included in all copies or substantial portions of the Software.\n",
    "\n",
    "THE SOFTWARE IS PROVIDED \"AS IS\", WITHOUT WARRANTY OF ANY KIND, EXPRESS OR IMPLIED, INCLUDING BUT NOT LIMITED TO THE WARRANTIES OF MERCHANTABILITY, FITNESS FOR A PARTICULAR PURPOSE AND NONINFRINGEMENT. IN NO EVENT SHALL THE AUTHORS OR COPYRIGHT HOLDERS BE LIABLE FOR ANY CLAIM, DAMAGES OR OTHER LIABILITY, WHETHER IN AN ACTION OF CONTRACT, TORT OR OTHERWISE, ARISING FROM, OUT OF OR IN CONNECTION WITH THE SOFTWARE OR THE USE OR OTHER DEALINGS IN THE SOFTWARE."
   ]
  }
 ],
 "metadata": {
  "kernelspec": {
   "display_name": "Python 3 (ipykernel)",
   "language": "python",
   "name": "python3"
  },
  "language_info": {
   "codemirror_mode": {
    "name": "ipython",
    "version": 3
   },
   "file_extension": ".py",
   "mimetype": "text/x-python",
   "name": "python",
   "nbconvert_exporter": "python",
   "pygments_lexer": "ipython3",
   "version": "3.12.9"
  },
  "vscode": {
   "interpreter": {
    "hash": "0f29e496949dc4ef652a1afa2d601ce2913fc84758b70efb060a954cb0e2d83f"
   }
  }
 },
 "nbformat": 4,
 "nbformat_minor": 5
}
