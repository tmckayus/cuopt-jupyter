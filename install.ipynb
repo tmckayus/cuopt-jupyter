{
 "cells": [
  {
   "cell_type": "markdown",
   "id": "8996b8fb-056a-48b3-927e-063111940401",
   "metadata": {},
   "source": [
    "## Load notebooks from github\n",
    "\n",
    "This cell will download notebooks and put them in the **examples** directory in two subdirectories:\n",
    "* service - notebooks for use with the cuOpt service\n",
    "* sdk - notebooks for use with the cuOpt Python SDK\n"
   ]
  },
  {
   "cell_type": "code",
   "execution_count": null,
   "id": "a68b7511-48e4-40c1-b691-632dcfd40d9c",
   "metadata": {},
   "outputs": [],
   "source": [
    "%%bash\n",
    "mkdir -p examples/service\n",
    "mkdir examples/sdk\n",
    "git clone  -b branch-25.02 --single-branch https://github.com/NVIDIA/cuopt-examples\n",
    "mv cuopt-examples/LICENSE.md cuopt-examples/README.md ./examples\n",
    "\n",
    "# Service notebooks\n",
    "for d in cuFOLIO_portfolio_optimization sample_lp_sever_notebooks routing_optimization_over_server; do\n",
    "    mv cuopt-examples/$d ./examples/service/\n",
    "    if [ -f ./examples/service/$d/requirements.txt ]; then\n",
    "        pip install -q -r ./examples/service/$d/requirements.txt\n",
    "    fi\n",
    "done\n",
    "\n",
    "# SDK notebooks\n",
    "for d in last_mile_delivery intra-factory_transport; do\n",
    "    mv cuopt-examples/$d ./examples/sdk/\n",
    "    if [ -f ./examples/sdk/$d/requirements.txt ]; then\n",
    "        pip install -q -r ./examples/sdk/$d/requirements.txt\n",
    "    fi\n",
    "done\n",
    "rm -rf cuopt-examples"
   ]
  },
  {
   "cell_type": "markdown",
   "id": "52f71cb8-a921-4365-b9d2-d50a0fe7d74f",
   "metadata": {},
   "source": [
    "One-time setup for the service notebooks: [Install and run the cuOpt server](#cuopt-server)\n",
    "\n",
    "One-time setup for the SDK notebooks: [Install the cuOpt Python SDK](#cuopt-sdk)\n",
    "\n",
    "After you have performed the setup, return to the file navigation pane to run the example notebooks"
   ]
  },
  {
   "cell_type": "markdown",
   "id": "0daa95e9-8f11-492e-98f9-d5e9d73d6f14",
   "metadata": {},
   "source": [
    "<a id=\"cuopt-server\"></a>\n",
    "# Install and run the cuOpt server\n",
    "\n",
    "This is only necessary if you are going to run the notebooks under **examples/service**"
   ]
  },
  {
   "cell_type": "markdown",
   "id": "0fa021c5-90d3-45b0-ae86-1a546220bf3c",
   "metadata": {},
   "source": [
    "## Install the cuOpt self-hosted client"
   ]
  },
  {
   "cell_type": "code",
   "execution_count": null,
   "id": "a24dd030-d5eb-49a9-91fd-360c11eca46a",
   "metadata": {},
   "outputs": [],
   "source": [
    "%%bash\n",
    "pip install cuopt_sh_client --extra-index-url=https://pypi.nvidia.com"
   ]
  },
  {
   "cell_type": "markdown",
   "id": "667bc17e-5189-4f98-a2f1-0b01124524d8",
   "metadata": {},
   "source": [
    "## Add the current user to the docker group"
   ]
  },
  {
   "cell_type": "markdown",
   "id": "7332d7fc-e86f-4a93-8753-f1fc3b9a02d6",
   "metadata": {},
   "source": [
    "#### This requires passwordless sudo and allows the current user to run containers"
   ]
  },
  {
   "cell_type": "code",
   "execution_count": null,
   "id": "4e7158e9-fa31-440b-a62c-543ddffddb38",
   "metadata": {},
   "outputs": [],
   "source": [
    "%%bash\n",
    "sudo usermod -aG docker $USER\n",
    "sudo su $USER"
   ]
  },
  {
   "cell_type": "markdown",
   "id": "ec0e3c3d-bd0f-4554-b6c3-dcb848177633",
   "metadata": {},
   "source": [
    "## Enter a NGC api key and download the cuOpt container image\n",
    "### Note: you must advance manually to the next cell after successfully setting an api key"
   ]
  },
  {
   "cell_type": "code",
   "execution_count": null,
   "id": "dbadb8e6-27f7-4b07-918f-e7fc486bab07",
   "metadata": {},
   "outputs": [],
   "source": [
    "import getpass, os\n",
    "os.environ[\"CUOPT_IMAGE\"] = \"nvcr.io/nvidia/cuopt/cuopt-ea:25.02\"\n",
    "if os.environ.get(\"NGC_API_KEY\"):\n",
    "    p = getpass.getpass(\"You have an api key set already. Enter a new api key or simply press enter to keep the current key: \")\n",
    "    if p:\n",
    "        os.environ[\"NGC_API_KEY\"] = p\n",
    "        print(\"Successfully set api key.\")        \n",
    "    else:\n",
    "        print(\"Current api key kept\")\n",
    "else:\n",
    "    os.environ[\"NGC_API_KEY\"] = getpass.getpass(\"Enter your api key and press enter: \")\n",
    "    if os.environ[\"NGC_API_KEY\"]:\n",
    "        print(\"Successfully set api key.\")"
   ]
  },
  {
   "cell_type": "code",
   "execution_count": null,
   "id": "0b32b3ce-74b2-49f4-a364-ee4030c12f88",
   "metadata": {},
   "outputs": [],
   "source": [
    "%%bash\n",
    "docker logout nvcr.io\n",
    "echo \"${NGC_API_KEY}\" | docker login nvcr.io -u '$oauthtoken' --password-stdin\n",
    "echo pulling image ....\n",
    "docker pull $CUOPT_IMAGE\n",
    "docker logout nvcr.io"
   ]
  },
  {
   "cell_type": "code",
   "execution_count": null,
   "id": "a91768a3-24cb-4839-b451-0a3ec5044132",
   "metadata": {},
   "outputs": [],
   "source": [
    "del os.environ['NGC_API_KEY']"
   ]
  },
  {
   "cell_type": "markdown",
   "id": "807bc24a-dbe9-4009-bee8-5b850bd3ae06",
   "metadata": {},
   "source": [
    "## Starting and Stopping the cuOpt server\n",
    "\n",
    "Now that the container is installed you may start and stop the cuOpt server at any time with the following cells"
   ]
  },
  {
   "cell_type": "markdown",
   "id": "1323098a-3329-4e1e-8e54-4df203a735c9",
   "metadata": {},
   "source": [
    "### Start server"
   ]
  },
  {
   "cell_type": "code",
   "execution_count": null,
   "id": "1744c52f-9ed1-4680-89ac-f0f207496026",
   "metadata": {},
   "outputs": [],
   "source": [
    "import subprocess\n",
    "import os\n",
    "\n",
    "# Make sure we do not already have the cuopt server running\n",
    "docker_cmd = [\n",
    "    \"docker\", \"ps\"\n",
    "]\n",
    "ps = subprocess.run(docker_cmd, capture_output=True, text=True)\n",
    "for l in ps.stdout.split(\"\\n\"):\n",
    "    if \"cuopt\" in l:\n",
    "        container_id = l.split()[0]\n",
    "        print(\"cuopt is already running.\")    \n",
    "        print(container_id)\n",
    "        break\n",
    "else:\n",
    "    docker_cmd = [\n",
    "        \"docker\", \"run\",\n",
    "        \"--rm\", \"-d\",\n",
    "        \"--network=host\",\n",
    "        \"--gpus=1\", \"-it\",\n",
    "        os.environ['CUOPT_IMAGE']\n",
    "    ]\n",
    "    container_id = subprocess.run(docker_cmd, capture_output=True, text=True).stdout.strip()\n",
    "    print(\"cuopt started\")\n",
    "    print(container_id)\n",
    "\n"
   ]
  },
  {
   "cell_type": "markdown",
   "id": "397aaae4-31d4-4677-a3a6-391d4d68d13e",
   "metadata": {},
   "source": [
    "### Stop server"
   ]
  },
  {
   "cell_type": "code",
   "execution_count": null,
   "id": "55ecfc6b-6924-4a57-ad51-2af5d5289851",
   "metadata": {},
   "outputs": [],
   "source": [
    "import subprocess\n",
    "import os\n",
    "\n",
    "docker_cmd = [\n",
    "    \"docker\", \"stop\", container_id\n",
    "]\n",
    "ps = subprocess.run(docker_cmd, capture_output=True, text=True)\n",
    "if ps.stderr:\n",
    "    print(ps.stderr)\n",
    "else:\n",
    "    print(\"cuopt server stopped.\")"
   ]
  },
  {
   "cell_type": "markdown",
   "id": "c3c280a2-ce76-4734-ae40-60ea946541d2",
   "metadata": {},
   "source": [
    "<a id=\"cuopt-sdk\"></a>\n",
    "# Install the cuOpt Python SDK\n",
    "\n",
    "This is only necessary if you are going to run the notebooks under **examples/sdk**\n",
    "\n",
    "The following cell installs some libraries that may not be present along with the cuOpt Python SDK"
   ]
  },
  {
   "cell_type": "code",
   "execution_count": null,
   "id": "bf74f475-a9c2-418f-99c3-a0caa46f78cd",
   "metadata": {},
   "outputs": [],
   "source": [
    "CUDA_VERSION = \"12\"\n",
    "CUDA_SUFFIX = f\"cu{CUDA_VERSION}\""
   ]
  },
  {
   "cell_type": "code",
   "execution_count": null,
   "id": "f744060f-9bd1-45eb-93e9-3db330040403",
   "metadata": {},
   "outputs": [],
   "source": [
    "%%bash -s \"$CUDA_VERSION\" \"$CUDA_SUFFIX\"\n",
    "\n",
    "# Configuration\n",
    "CUDA_VERSION=\"$1\"\n",
    "CUDA_SUFFIX=\"$2\"\n",
    "\n",
    "# Function to check if a library exists\n",
    "check_lib() {\n",
    "    ldconfig -p | grep -q \"$1\"\n",
    "    return $?\n",
    "}\n",
    "\n",
    "# Function to find library path\n",
    "find_lib() {\n",
    "    sudo find / -name \"$1\" 2>/dev/null | head -n 1\n",
    "}\n",
    "\n",
    "# Function to add path to ld.so.conf\n",
    "add_to_ldconfig() {\n",
    "    local lib_dir=\"$1\"\n",
    "    if [ -n \"$lib_dir\" ]; then\n",
    "        echo \"$lib_dir\" | sudo tee -a /etc/ld.so.conf.d/cuda-${CUDA_SUFFIX}.conf >/dev/null\n",
    "    fi\n",
    "}\n",
    "\n",
    "echo \"Setting up CUDA ${CUDA_VERSION} libraries...\"\n",
    "\n",
    "# Install and setup CUDART if needed\n",
    "if ! check_lib \"libcudart.so.${CUDA_VERSION}\"; then\n",
    "    echo \"Installing nvidia-cuda-runtime-${CUDA_SUFFIX}...\"\n",
    "    sudo pip3 install nvidia-cuda-runtime-${CUDA_SUFFIX}\n",
    "    \n",
    "    # Find CUDART library\n",
    "    CUDART_PATH=$(find_lib \"libcudart.so.${CUDA_VERSION}\")\n",
    "    if [ -z \"$CUDART_PATH\" ]; then\n",
    "        echo \"Error: Could not find libcudart.so.${CUDA_VERSION}\"\n",
    "        exit 1\n",
    "    fi\n",
    "    \n",
    "    # Create symlink for libcudart.so\n",
    "    CUDART_DIR=$(dirname \"$CUDART_PATH\")\n",
    "    if [ ! -f \"${CUDART_DIR}/libcudart.so\" ]; then\n",
    "        echo \"Creating symlink for libcudart.so...\"\n",
    "        sudo ln -s \"$CUDART_PATH\" \"${CUDART_DIR}/libcudart.so\"\n",
    "    fi\n",
    "    \n",
    "    # Add to LD_LIBRARY_PATH\n",
    "    add_to_ldconfig \"$CUDART_DIR\"\n",
    "else\n",
    "    echo \"CUDART library already installed\"\n",
    "fi\n",
    "\n",
    "# Install and setup NVRTC if needed\n",
    "if ! check_lib \"libnvrtc.so.${CUDA_VERSION}\"; then\n",
    "    echo \"Installing nvidia-cuda-nvrtc-${CUDA_SUFFIX}...\"\n",
    "    sudo pip3 install nvidia-cuda-nvrtc-${CUDA_SUFFIX}\n",
    "    \n",
    "    # Find NVRTC library\n",
    "    NVRTC_PATH=$(find_lib \"libnvrtc.so.${CUDA_VERSION}\")\n",
    "    if [ -z \"$NVRTC_PATH\" ]; then\n",
    "        echo \"Error: Could not find libnvrtc.so.${CUDA_VERSION}\"\n",
    "        exit 1\n",
    "    fi\n",
    "    \n",
    "    # Add to LD_LIBRARY_PATH\n",
    "    NVRTC_DIR=$(dirname \"$NVRTC_PATH\")\n",
    "    add_to_ldconfig \"$NVRTC_DIR\"\n",
    "else\n",
    "    echo \"NVRTC library already installed\"\n",
    "fi"
   ]
  },
  {
   "cell_type": "code",
   "execution_count": null,
   "id": "285d36ed-3ed9-43e1-a1d3-0ef6c4851430",
   "metadata": {},
   "outputs": [],
   "source": [
    "%%bash\n",
    "echo \"Updating ldconfig...\"\n",
    "sudo ldconfig"
   ]
  },
  {
   "cell_type": "code",
   "execution_count": null,
   "id": "be1ab8fc-36fd-481e-88bd-aade03aabe35",
   "metadata": {},
   "outputs": [],
   "source": [
    "%%bash -s \"$CUDA_SUFFIX\"\n",
    "echo \"Install cudf...\"\n",
    "pip3 install cudf-$1"
   ]
  },
  {
   "cell_type": "code",
   "execution_count": null,
   "id": "73dc8fac-1a19-4a50-ab12-81c8e0643ef3",
   "metadata": {},
   "outputs": [],
   "source": [
    "%%bash\n",
    "echo \"Install cuOpt...\"\n",
    "pip3 install /home/ubuntu/*.whl"
   ]
  },
  {
   "cell_type": "markdown",
   "id": "274fdd25-1317-45b3-9eba-6f46562545d1",
   "metadata": {},
   "source": [
    "### COPYRIGHT and LICENSE\n",
    "\n",
    "SPDX-FileCopyrightText: Copyright (c) 2025 NVIDIA CORPORATION & AFFILIATES. All rights reserved.\n",
    "SPDX-License-Identifier: Apache-2.0\n",
    "\n",
    "Licensed under the Apache License, Version 2.0 (the \"License\");\n",
    "you may not use this file except in compliance with the License.\n",
    "You may obtain a copy of the License at\n",
    "\n",
    "http://www.apache.org/licenses/LICENSE-2.0\n",
    "\n",
    "Unless required by applicable law or agreed to in writing, software\n",
    "distributed under the License is distributed on an \"AS IS\" BASIS,\n",
    "WITHOUT WARRANTIES OR CONDITIONS OF ANY KIND, either express or implied.\n",
    "See the License for the specific language governing permissions and\n",
    "limitations under the License.\n"
   ]
  },
  {
   "cell_type": "code",
   "execution_count": null,
   "id": "530a97d1-84dd-454e-bf79-5070bdc500d4",
   "metadata": {},
   "outputs": [],
   "source": []
  }
 ],
 "metadata": {
  "kernelspec": {
   "display_name": "Python 3 (ipykernel)",
   "language": "python",
   "name": "python3"
  },
  "language_info": {
   "codemirror_mode": {
    "name": "ipython",
    "version": 3
   },
   "file_extension": ".py",
   "mimetype": "text/x-python",
   "name": "python",
   "nbconvert_exporter": "python",
   "pygments_lexer": "ipython3",
   "version": "3.12.7"
  }
 },
 "nbformat": 4,
 "nbformat_minor": 5
}
