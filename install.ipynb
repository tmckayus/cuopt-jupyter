{
 "cells": [
  {
   "cell_type": "markdown",
   "id": "cfe86fa9-cfad-4bd0-ac5c-fb520f242732",
   "metadata": {},
   "source": [
    "This notebook only needs to be run once on a new machine. After completing this notebook, you will be ready to run the example notebooks"
   ]
  },
  {
   "cell_type": "markdown",
   "id": "8996b8fb-056a-48b3-927e-063111940401",
   "metadata": {},
   "source": [
    "# Download example notebooks from cuopt-examples\n"
   ]
  },
  {
   "cell_type": "code",
   "execution_count": null,
   "id": "a68b7511-48e4-40c1-b691-632dcfd40d9c",
   "metadata": {},
   "outputs": [],
   "source": [
    "%%bash\n",
    "git clone -b branch-25.02 --single-branch https://github.com/NVIDIA/cuopt-examples"
   ]
  },
  {
   "cell_type": "markdown",
   "id": "46a28750-d9c0-4edd-92ba-b75eed212346",
   "metadata": {},
   "source": [
    "Refresh the file navigation pane if it does not update automatically"
   ]
  },
  {
   "cell_type": "markdown",
   "id": "c3c280a2-ce76-4734-ae40-60ea946541d2",
   "metadata": {},
   "source": [
    "# Install Additional Libraries\n",
    "\n",
    "The following cell installs some necessary libraries that may not be present on the system."
   ]
  },
  {
   "cell_type": "code",
   "execution_count": null,
   "id": "bf74f475-a9c2-418f-99c3-a0caa46f78cd",
   "metadata": {},
   "outputs": [],
   "source": [
    "CUDA_VERSION = \"12\"\n",
    "CUDA_SUFFIX = f\"cu{CUDA_VERSION}\""
   ]
  },
  {
   "cell_type": "code",
   "execution_count": null,
   "id": "f744060f-9bd1-45eb-93e9-3db330040403",
   "metadata": {},
   "outputs": [],
   "source": [
    "%%bash -s \"$CUDA_VERSION\" \"$CUDA_SUFFIX\"\n",
    "\n",
    "# Configuration\n",
    "CUDA_VERSION=\"$1\"\n",
    "CUDA_SUFFIX=\"$2\"\n",
    "\n",
    "# Function to check if a library exists\n",
    "check_lib() {\n",
    "    ldconfig -p | grep -q \"$1\"\n",
    "    return $?\n",
    "}\n",
    "\n",
    "# Function to find library path\n",
    "find_lib() {\n",
    "    sudo find / -name \"$1\" 2>/dev/null | head -n 1\n",
    "}\n",
    "\n",
    "# Function to add path to ld.so.conf\n",
    "add_to_ldconfig() {\n",
    "    local lib_dir=\"$1\"\n",
    "    if [ -n \"$lib_dir\" ]; then\n",
    "        echo \"$lib_dir\" | sudo tee -a /etc/ld.so.conf.d/cuda-${CUDA_SUFFIX}.conf >/dev/null\n",
    "    fi\n",
    "}\n",
    "\n",
    "echo \"Setting up CUDA ${CUDA_VERSION} libraries...\"\n",
    "\n",
    "# Install and setup CUDART if needed\n",
    "if ! check_lib \"libcudart.so.${CUDA_VERSION}\"; then\n",
    "    echo \"Installing nvidia-cuda-runtime-${CUDA_SUFFIX}...\"\n",
    "    sudo pip3 install nvidia-cuda-runtime-${CUDA_SUFFIX}\n",
    "    \n",
    "    # Find CUDART library\n",
    "    CUDART_PATH=$(find_lib \"libcudart.so.${CUDA_VERSION}\")\n",
    "    if [ -z \"$CUDART_PATH\" ]; then\n",
    "        echo \"Error: Could not find libcudart.so.${CUDA_VERSION}\"\n",
    "        exit 1\n",
    "    fi\n",
    "    \n",
    "    # Create symlink for libcudart.so\n",
    "    CUDART_DIR=$(dirname \"$CUDART_PATH\")\n",
    "    if [ ! -f \"${CUDART_DIR}/libcudart.so\" ]; then\n",
    "        echo \"Creating symlink for libcudart.so...\"\n",
    "        sudo ln -s \"$CUDART_PATH\" \"${CUDART_DIR}/libcudart.so\"\n",
    "    fi\n",
    "    \n",
    "    # Add to LD_LIBRARY_PATH\n",
    "    add_to_ldconfig \"$CUDART_DIR\"\n",
    "else\n",
    "    echo \"CUDART library already installed\"\n",
    "fi\n",
    "\n",
    "# Install and setup NVRTC if needed\n",
    "if ! check_lib \"libnvrtc.so.${CUDA_VERSION}\"; then\n",
    "    echo \"Installing nvidia-cuda-nvrtc-${CUDA_SUFFIX}...\"\n",
    "    sudo pip3 install nvidia-cuda-nvrtc-${CUDA_SUFFIX}\n",
    "    \n",
    "    # Find NVRTC library\n",
    "    NVRTC_PATH=$(find_lib \"libnvrtc.so.${CUDA_VERSION}\")\n",
    "    if [ -z \"$NVRTC_PATH\" ]; then\n",
    "        echo \"Error: Could not find libnvrtc.so.${CUDA_VERSION}\"\n",
    "        exit 1\n",
    "    fi\n",
    "    \n",
    "    # Add to LD_LIBRARY_PATH\n",
    "    NVRTC_DIR=$(dirname \"$NVRTC_PATH\")\n",
    "    add_to_ldconfig \"$NVRTC_DIR\"\n",
    "else\n",
    "    echo \"NVRTC library already installed\"\n",
    "fi"
   ]
  },
  {
   "cell_type": "code",
   "execution_count": null,
   "id": "285d36ed-3ed9-43e1-a1d3-0ef6c4851430",
   "metadata": {},
   "outputs": [],
   "source": [
    "%%bash\n",
    "echo \"Updating ldconfig...\"\n",
    "sudo ldconfig"
   ]
  },
  {
   "cell_type": "code",
   "execution_count": null,
   "id": "473d8291-fe95-4a1f-bb09-c87c6966a151",
   "metadata": {},
   "outputs": [],
   "source": [
    "%%bash\n",
    "pip install --extra-index-url=https://pypi.nvidia.com cuopt-server-cu12==25.5 cuopt-sh-client==25.5 nvidia-cuda-runtime-cu12==12.8.*"
   ]
  },
  {
   "cell_type": "markdown",
   "id": "274fdd25-1317-45b3-9eba-6f46562545d1",
   "metadata": {},
   "source": [
    "### COPYRIGHT and LICENSE\n",
    "\n",
    "SPDX-FileCopyrightText: Copyright (c) 2025 NVIDIA CORPORATION & AFFILIATES. All rights reserved.\n",
    "SPDX-License-Identifier: Apache-2.0\n",
    "\n",
    "Licensed under the Apache License, Version 2.0 (the \"License\");\n",
    "you may not use this file except in compliance with the License.\n",
    "You may obtain a copy of the License at\n",
    "\n",
    "http://www.apache.org/licenses/LICENSE-2.0\n",
    "\n",
    "Unless required by applicable law or agreed to in writing, software\n",
    "distributed under the License is distributed on an \"AS IS\" BASIS,\n",
    "WITHOUT WARRANTIES OR CONDITIONS OF ANY KIND, either express or implied.\n",
    "See the License for the specific language governing permissions and\n",
    "limitations under the License.\n"
   ]
  },
  {
   "cell_type": "code",
   "execution_count": null,
   "id": "530a97d1-84dd-454e-bf79-5070bdc500d4",
   "metadata": {},
   "outputs": [],
   "source": []
  }
 ],
 "metadata": {
  "kernelspec": {
   "display_name": "Python 3 (ipykernel)",
   "language": "python",
   "name": "python3"
  },
  "language_info": {
   "codemirror_mode": {
    "name": "ipython",
    "version": 3
   },
   "file_extension": ".py",
   "mimetype": "text/x-python",
   "name": "python",
   "nbconvert_exporter": "python",
   "pygments_lexer": "ipython3",
   "version": "3.12.7"
  }
 },
 "nbformat": 4,
 "nbformat_minor": 5
}
