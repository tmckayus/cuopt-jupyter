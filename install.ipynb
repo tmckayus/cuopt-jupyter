{
 "cells": [
  {
   "cell_type": "markdown",
   "id": "cfe86fa9-cfad-4bd0-ac5c-fb520f242732",
   "metadata": {},
   "source": [
    "This notebook only needs to be run once on a new machine. After completing this notebook, you will be ready to run the example notebooks"
   ]
  },
  {
   "cell_type": "markdown",
   "id": "8996b8fb-056a-48b3-927e-063111940401",
   "metadata": {},
   "source": [
    "# Download example notebooks from cuopt-examples\n"
   ]
  },
  {
   "cell_type": "code",
   "execution_count": null,
   "id": "a68b7511-48e4-40c1-b691-632dcfd40d9c",
   "metadata": {},
   "outputs": [],
   "source": [
    "%%bash\n",
    "git clone -b branch-25.05 --single-branch https://github.com/NVIDIA/cuopt-examples"
   ]
  },
  {
   "cell_type": "markdown",
   "id": "c3c280a2-ce76-4734-ae40-60ea946541d2",
   "metadata": {},
   "source": [
    "# Install CUDA Toolkit"
   ]
  },
  {
   "cell_type": "code",
   "execution_count": null,
   "id": "c6c0f41b-f3de-4168-81f5-58ce98afc048",
   "metadata": {},
   "outputs": [],
   "source": [
    "%%bash\n",
    "\n",
    "# Change this value to install the CUDA toolkit for another version\n",
    "CUDA_VERSION=12.4\n",
    "\n",
    "wget https://developer.download.nvidia.com/compute/cuda/repos/ubuntu2204/x86_64/cuda-keyring_1.1-1_all.deb\n",
    "sudo dpkg -i cuda-keyring_1.1-1_all.deb\n",
    "sudo apt-get -y -q update\n",
    "sudo apt-get -y -q install cuda-toolkit-${CUDA_VERSION}"
   ]
  },
  {
   "cell_type": "code",
   "execution_count": null,
   "id": "473d8291-fe95-4a1f-bb09-c87c6966a151",
   "metadata": {},
   "outputs": [],
   "source": [
    "%%bash\n",
    "pip install --extra-index-url=https://pypi.nvidia.com cuopt-server-cu12==25.5.* cuopt-sh-client==25.5.* \n",
    "#pip install --extra-index-url=https://pypi.nvidia.com nvidia-cuda-runtime-cu12==12.8.*"
   ]
  },
  {
   "cell_type": "markdown",
   "id": "274fdd25-1317-45b3-9eba-6f46562545d1",
   "metadata": {},
   "source": [
    "### COPYRIGHT and LICENSE\n",
    "\n",
    "SPDX-FileCopyrightText: Copyright (c) 2025 NVIDIA CORPORATION & AFFILIATES. All rights reserved.\n",
    "SPDX-License-Identifier: Apache-2.0\n",
    "\n",
    "Licensed under the Apache License, Version 2.0 (the \"License\");\n",
    "you may not use this file except in compliance with the License.\n",
    "You may obtain a copy of the License at\n",
    "\n",
    "http://www.apache.org/licenses/LICENSE-2.0\n",
    "\n",
    "Unless required by applicable law or agreed to in writing, software\n",
    "distributed under the License is distributed on an \"AS IS\" BASIS,\n",
    "WITHOUT WARRANTIES OR CONDITIONS OF ANY KIND, either express or implied.\n",
    "See the License for the specific language governing permissions and\n",
    "limitations under the License.\n"
   ]
  },
  {
   "cell_type": "code",
   "execution_count": null,
   "id": "530a97d1-84dd-454e-bf79-5070bdc500d4",
   "metadata": {},
   "outputs": [],
   "source": []
  }
 ],
 "metadata": {
  "kernelspec": {
   "display_name": "Python 3 (ipykernel)",
   "language": "python",
   "name": "python3"
  },
  "language_info": {
   "codemirror_mode": {
    "name": "ipython",
    "version": 3
   },
   "file_extension": ".py",
   "mimetype": "text/x-python",
   "name": "python",
   "nbconvert_exporter": "python",
   "pygments_lexer": "ipython3",
   "version": "3.12.7"
  }
 },
 "nbformat": 4,
 "nbformat_minor": 5
}
