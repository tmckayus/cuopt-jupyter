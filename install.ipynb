{
 "cells": [
  {
   "cell_type": "markdown",
   "id": "0daa95e9-8f11-492e-98f9-d5e9d73d6f14",
   "metadata": {},
   "source": [
    "# This utility notebook makes sure some additional dependencies are installed and starts the cuOpt server for you on the Jupyter host."
   ]
  },
  {
   "cell_type": "code",
   "execution_count": null,
   "id": "b45c77a0-44a1-49eb-b840-bde1c2fe5d14",
   "metadata": {},
   "outputs": [],
   "source": [
    "## First we install some dependencies that the Python client needs, and some dependencies the notebooks need for data processing and display."
   ]
  },
  {
   "cell_type": "code",
   "execution_count": null,
   "id": "a24dd030-d5eb-49a9-91fd-360c11eca46a",
   "metadata": {},
   "outputs": [],
   "source": [
    "%%bash\n",
    "pip install cuopt_sh_client --extra-index-url=https://pypi.nvidia.com\n",
    "pip install pandas matplotlib scipy polyline folium"
   ]
  },
  {
   "cell_type": "code",
   "execution_count": null,
   "id": "123352e3-e079-41cd-838e-a3555b45b1ef",
   "metadata": {},
   "outputs": [],
   "source": [
    "## Assuming you do not already have the cuOpt server running locally, we download the cuOpt image using your NGC api key and then start the server. This requires that the user running the notebook have passwordless sudo privileges on the Jupyter host."
   ]
  },
  {
   "cell_type": "code",
   "execution_count": null,
   "id": "0b32b3ce-74b2-49f4-a364-ee4030c12f88",
   "metadata": {},
   "outputs": [],
   "source": [
    "%%bash\n",
    "\n",
    "# Ensure that the current user is in the docker group\n",
    "sudo usermod -aG docker $USER\n",
    "sudo su $USER\n",
    "\n",
    "# Log docker into nvcr.io using your NGC api key. If you save this notebook, make\n",
    "# sure to save it in a safe place so your api key is not exposed.\n",
    "export NGC_API_KEY=\"YOUR API KEY HERE\"\n",
    "echo \"${NGC_API_KEY}\" | docker login nvcr.io -u '$oauthtoken' --password-stdin\n",
    "export CUOPT_IMAGE=\"nvcr.io/nvidia/cuopt/cuopt-ea:25.02\"\n",
    "\n",
    "# Download the cuOpt imge\n",
    "echo pulling image ....\n",
    "docker pull $CUOPT_IMAGE\n",
    "\n",
    "# Start the cuOpt server\n",
    "echo starting cuopt ....\n",
    "docker run --rm -d --network=host --gpus=1 -it $CUOPT_IMAGE"
   ]
  }
 ],
 "metadata": {
  "kernelspec": {
   "display_name": "Python 3 (ipykernel)",
   "language": "python",
   "name": "python3"
  },
  "language_info": {
   "codemirror_mode": {
    "name": "ipython",
    "version": 3
   },
   "file_extension": ".py",
   "mimetype": "text/x-python",
   "name": "python",
   "nbconvert_exporter": "python",
   "pygments_lexer": "ipython3",
   "version": "3.12.9"
  }
 },
 "nbformat": 4,
 "nbformat_minor": 5
}
